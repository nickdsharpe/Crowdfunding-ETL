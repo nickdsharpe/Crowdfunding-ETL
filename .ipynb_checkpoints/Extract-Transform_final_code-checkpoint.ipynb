{
 "cells": [
  {
   "cell_type": "code",
   "execution_count": 1,
   "metadata": {},
   "outputs": [],
   "source": [
    "import pandas as pd\n",
    "import json"
   ]
  },
  {
   "cell_type": "markdown",
   "metadata": {},
   "source": [
    "## Deliverable 1: Extract\n",
    "----\n",
    "### Option 1: Use Python Dictionary Methods\n",
    "\n",
    "1. Import the `backer_info.csv` file into a DataFrame.\n",
    "2. Iterate through the DataFrame and convert each row to a dictionary. \n",
    "3. Iterate through each dictionary and do the following:\n",
    "    * Extract the dictionary values from the keys using Python list comprehension.\n",
    "    * Add the values for each row to a new list. \n",
    "4. Create a new DataFrame with the retrieved data. \n",
    "5. Export the DataFrame as `backers_data.csv`."
   ]
  },
  {
   "cell_type": "code",
   "execution_count": 2,
   "metadata": {},
   "outputs": [
    {
     "data": {
      "text/html": [
       "<div>\n",
       "<style scoped>\n",
       "    .dataframe tbody tr th:only-of-type {\n",
       "        vertical-align: middle;\n",
       "    }\n",
       "\n",
       "    .dataframe tbody tr th {\n",
       "        vertical-align: top;\n",
       "    }\n",
       "\n",
       "    .dataframe thead th {\n",
       "        text-align: right;\n",
       "    }\n",
       "</style>\n",
       "<table border=\"1\" class=\"dataframe\">\n",
       "  <thead>\n",
       "    <tr style=\"text-align: right;\">\n",
       "      <th></th>\n",
       "      <th>backer_info</th>\n",
       "    </tr>\n",
       "  </thead>\n",
       "  <tbody>\n",
       "    <tr>\n",
       "      <th>0</th>\n",
       "      <td>{\"backer_id\": \"av166\", \"cf_id\": 968, \"name\": \"Angelo Vincent\", \"email\": \"avincent@live.com\"}</td>\n",
       "    </tr>\n",
       "    <tr>\n",
       "      <th>1</th>\n",
       "      <td>{\"backer_id\": \"ha127\", \"cf_id\": 563, \"name\": \"Hubert Arnold\", \"email\": \"harnold@yandex.com\"}</td>\n",
       "    </tr>\n",
       "    <tr>\n",
       "      <th>2</th>\n",
       "      <td>{\"backer_id\": \"lg794\", \"cf_id\": 65, \"name\": \"Loris Goulet\", \"email\": \"lgoulet@yandex.com\"}</td>\n",
       "    </tr>\n",
       "    <tr>\n",
       "      <th>3</th>\n",
       "      <td>{\"backer_id\": \"tb566\", \"cf_id\": 563, \"name\": \"Teodora Brunelli\", \"email\": \"tbrunelli@outlook.com\"}</td>\n",
       "    </tr>\n",
       "    <tr>\n",
       "      <th>4</th>\n",
       "      <td>{\"backer_id\": \"lh506\", \"cf_id\": 563, \"name\": \"Lexie Hunt\", \"email\": \"lhunt@live.com\"}</td>\n",
       "    </tr>\n",
       "  </tbody>\n",
       "</table>\n",
       "</div>"
      ],
      "text/plain": [
       "                                                                                          backer_info\n",
       "0        {\"backer_id\": \"av166\", \"cf_id\": 968, \"name\": \"Angelo Vincent\", \"email\": \"avincent@live.com\"}\n",
       "1        {\"backer_id\": \"ha127\", \"cf_id\": 563, \"name\": \"Hubert Arnold\", \"email\": \"harnold@yandex.com\"}\n",
       "2          {\"backer_id\": \"lg794\", \"cf_id\": 65, \"name\": \"Loris Goulet\", \"email\": \"lgoulet@yandex.com\"}\n",
       "3  {\"backer_id\": \"tb566\", \"cf_id\": 563, \"name\": \"Teodora Brunelli\", \"email\": \"tbrunelli@outlook.com\"}\n",
       "4               {\"backer_id\": \"lh506\", \"cf_id\": 563, \"name\": \"Lexie Hunt\", \"email\": \"lhunt@live.com\"}"
      ]
     },
     "execution_count": 2,
     "metadata": {},
     "output_type": "execute_result"
    }
   ],
   "source": [
    "# Get the backers_info from the crowdfunding_info sheet. \n",
    "pd.set_option('max_colwidth', 400)\n",
    "\n",
    "file = pd.read_csv('backer_info_dirty.csv')\n",
    "backers = pd.DataFrame(file)\n",
    "backers.head()"
   ]
  },
  {
   "cell_type": "code",
   "execution_count": 3,
   "metadata": {},
   "outputs": [],
   "source": [
    "# Iterate through the backers DataFrame and convert each row to a dictionary.\n",
    "dict_values = []\n",
    "for i, row in backers.iterrows():\n",
    "    data = row['backer_info']\n",
    "    json_data = json.loads(data)\n",
    "    # Iterate through each dictionary (row) and get the values for each row using list comprehension.\n",
    "    row_values = [v for k, v in json_data.items()]\n",
    "    # Append the list of values for each row to a list. \n",
    "    dict_values.append(row_values)\n",
    "\n",
    "# Print out the list of values for each row.\n",
    "# print(dict_values)"
   ]
  },
  {
   "cell_type": "code",
   "execution_count": 4,
   "metadata": {},
   "outputs": [
    {
     "data": {
      "text/html": [
       "<div>\n",
       "<style scoped>\n",
       "    .dataframe tbody tr th:only-of-type {\n",
       "        vertical-align: middle;\n",
       "    }\n",
       "\n",
       "    .dataframe tbody tr th {\n",
       "        vertical-align: top;\n",
       "    }\n",
       "\n",
       "    .dataframe thead th {\n",
       "        text-align: right;\n",
       "    }\n",
       "</style>\n",
       "<table border=\"1\" class=\"dataframe\">\n",
       "  <thead>\n",
       "    <tr style=\"text-align: right;\">\n",
       "      <th></th>\n",
       "      <th>backer_id</th>\n",
       "      <th>cf_id</th>\n",
       "      <th>name</th>\n",
       "      <th>email</th>\n",
       "    </tr>\n",
       "  </thead>\n",
       "  <tbody>\n",
       "    <tr>\n",
       "      <th>0</th>\n",
       "      <td>av166</td>\n",
       "      <td>968</td>\n",
       "      <td>Angelo Vincent</td>\n",
       "      <td>avincent@live.com</td>\n",
       "    </tr>\n",
       "    <tr>\n",
       "      <th>1</th>\n",
       "      <td>ha127</td>\n",
       "      <td>563</td>\n",
       "      <td>Hubert Arnold</td>\n",
       "      <td>harnold@yandex.com</td>\n",
       "    </tr>\n",
       "    <tr>\n",
       "      <th>2</th>\n",
       "      <td>lg794</td>\n",
       "      <td>65</td>\n",
       "      <td>Loris Goulet</td>\n",
       "      <td>lgoulet@yandex.com</td>\n",
       "    </tr>\n",
       "    <tr>\n",
       "      <th>3</th>\n",
       "      <td>tb566</td>\n",
       "      <td>563</td>\n",
       "      <td>Teodora Brunelli</td>\n",
       "      <td>tbrunelli@outlook.com</td>\n",
       "    </tr>\n",
       "    <tr>\n",
       "      <th>4</th>\n",
       "      <td>lh506</td>\n",
       "      <td>563</td>\n",
       "      <td>Lexie Hunt</td>\n",
       "      <td>lhunt@live.com</td>\n",
       "    </tr>\n",
       "  </tbody>\n",
       "</table>\n",
       "</div>"
      ],
      "text/plain": [
       "  backer_id  cf_id              name                  email\n",
       "0     av166    968    Angelo Vincent      avincent@live.com\n",
       "1     ha127    563     Hubert Arnold     harnold@yandex.com\n",
       "2     lg794     65      Loris Goulet     lgoulet@yandex.com\n",
       "3     tb566    563  Teodora Brunelli  tbrunelli@outlook.com\n",
       "4     lh506    563        Lexie Hunt         lhunt@live.com"
      ]
     },
     "execution_count": 4,
     "metadata": {},
     "output_type": "execute_result"
    }
   ],
   "source": [
    "# Create a backers_df DataFrame with the following columns: 'backer_id','cf_id', 'name', and 'email' \n",
    "# using the list of values lists. \n",
    "backers_df = pd.DataFrame(dict_values, columns=['backer_id', 'cf_id', 'name', 'email'])\n",
    "backers_df.head()\n",
    "                                    "
   ]
  },
  {
   "cell_type": "code",
   "execution_count": 5,
   "metadata": {},
   "outputs": [],
   "source": [
    "# Export the DataFrame as a CSV file using encoding='utf8'.\n",
    "backers_df.to_csv('backer_info.csv', encoding='utf8')"
   ]
  },
  {
   "cell_type": "markdown",
   "metadata": {},
   "source": [
    "## Deliverable 1: Extract\n",
    "----\n",
    "### Option 2: Use regex \n",
    "\n",
    "1. Import the `backer_info.csv` file into a DataFrame. \n",
    "2. Extract the \"backer_id\", \"cf_id\", \"name\", and \"email using regular expressions.\"\n",
    "3. Create a new DataFrame with the retrieved data.\n",
    "4. Export the DataFrame as `backers_data.csv`."
   ]
  },
  {
   "cell_type": "code",
   "execution_count": 6,
   "metadata": {},
   "outputs": [],
   "source": [
    "# Get the backers_info from the crowdfunding_info sheet. \n",
    "pd.set_option('max_colwidth', 400)\n"
   ]
  },
  {
   "cell_type": "code",
   "execution_count": null,
   "metadata": {},
   "outputs": [],
   "source": [
    "# Extract the alpha-numeric \"backer_id\" from the backer_info column using a regex expression \n",
    "# and add it as a new column called \"backer_id\".\n",
    "\n"
   ]
  },
  {
   "cell_type": "code",
   "execution_count": null,
   "metadata": {},
   "outputs": [],
   "source": [
    "# Extract the two to four-digit \"cf_id\" number from the backer_info column. \n",
    "# and add it as a new column called \"cf_id\".\n"
   ]
  },
  {
   "cell_type": "code",
   "execution_count": null,
   "metadata": {},
   "outputs": [],
   "source": [
    "# Extract the name from the backer_info column and add it as a new column called \"name\".\n"
   ]
  },
  {
   "cell_type": "code",
   "execution_count": null,
   "metadata": {},
   "outputs": [],
   "source": [
    "# Extract the email from the backer_info column and add it as a new column called \"email\".\n"
   ]
  },
  {
   "cell_type": "code",
   "execution_count": null,
   "metadata": {},
   "outputs": [],
   "source": [
    "# Create a new DataFrame with the appropriate columns.\n"
   ]
  },
  {
   "cell_type": "code",
   "execution_count": null,
   "metadata": {},
   "outputs": [],
   "source": [
    "# Export the DataFrame as a CSV file using encoding='utf8'.\n"
   ]
  },
  {
   "cell_type": "markdown",
   "metadata": {},
   "source": [
    "## Deliverable 2: Transform and Clean Data\n",
    "----\n",
    "1. Check the data types of the columns and convert the \"cf_id\" column to an integer, if necessary.\n",
    "2. Split the name in the \"name\" column into first and last names, and add them to \"first_name\" and \"last_name\" columns in the DataFrame. \n",
    "3. Drop the \"name\" column in the DataFrame.\n",
    "4. Place the columns in the following order; \"backer_id\", \"cf_id\", \"first_name\", \"last_name\" and \"email\"."
   ]
  },
  {
   "cell_type": "code",
   "execution_count": 7,
   "metadata": {},
   "outputs": [
    {
     "data": {
      "text/plain": [
       "backer_id    object\n",
       "cf_id         int64\n",
       "name         object\n",
       "email        object\n",
       "dtype: object"
      ]
     },
     "execution_count": 7,
     "metadata": {},
     "output_type": "execute_result"
    }
   ],
   "source": [
    "# Check data types.\n",
    "backers_df.dtypes"
   ]
  },
  {
   "cell_type": "code",
   "execution_count": 8,
   "metadata": {},
   "outputs": [
    {
     "data": {
      "text/html": [
       "<div>\n",
       "<style scoped>\n",
       "    .dataframe tbody tr th:only-of-type {\n",
       "        vertical-align: middle;\n",
       "    }\n",
       "\n",
       "    .dataframe tbody tr th {\n",
       "        vertical-align: top;\n",
       "    }\n",
       "\n",
       "    .dataframe thead th {\n",
       "        text-align: right;\n",
       "    }\n",
       "</style>\n",
       "<table border=\"1\" class=\"dataframe\">\n",
       "  <thead>\n",
       "    <tr style=\"text-align: right;\">\n",
       "      <th></th>\n",
       "      <th>backer_id</th>\n",
       "      <th>cf_id</th>\n",
       "      <th>name</th>\n",
       "      <th>email</th>\n",
       "    </tr>\n",
       "  </thead>\n",
       "  <tbody>\n",
       "    <tr>\n",
       "      <th>0</th>\n",
       "      <td>av166</td>\n",
       "      <td>968</td>\n",
       "      <td>Angelo Vincent</td>\n",
       "      <td>avincent@live.com</td>\n",
       "    </tr>\n",
       "    <tr>\n",
       "      <th>1</th>\n",
       "      <td>ha127</td>\n",
       "      <td>563</td>\n",
       "      <td>Hubert Arnold</td>\n",
       "      <td>harnold@yandex.com</td>\n",
       "    </tr>\n",
       "    <tr>\n",
       "      <th>2</th>\n",
       "      <td>lg794</td>\n",
       "      <td>65</td>\n",
       "      <td>Loris Goulet</td>\n",
       "      <td>lgoulet@yandex.com</td>\n",
       "    </tr>\n",
       "    <tr>\n",
       "      <th>3</th>\n",
       "      <td>tb566</td>\n",
       "      <td>563</td>\n",
       "      <td>Teodora Brunelli</td>\n",
       "      <td>tbrunelli@outlook.com</td>\n",
       "    </tr>\n",
       "    <tr>\n",
       "      <th>4</th>\n",
       "      <td>lh506</td>\n",
       "      <td>563</td>\n",
       "      <td>Lexie Hunt</td>\n",
       "      <td>lhunt@live.com</td>\n",
       "    </tr>\n",
       "  </tbody>\n",
       "</table>\n",
       "</div>"
      ],
      "text/plain": [
       "  backer_id  cf_id              name                  email\n",
       "0     av166    968    Angelo Vincent      avincent@live.com\n",
       "1     ha127    563     Hubert Arnold     harnold@yandex.com\n",
       "2     lg794     65      Loris Goulet     lgoulet@yandex.com\n",
       "3     tb566    563  Teodora Brunelli  tbrunelli@outlook.com\n",
       "4     lh506    563        Lexie Hunt         lhunt@live.com"
      ]
     },
     "execution_count": 8,
     "metadata": {},
     "output_type": "execute_result"
    }
   ],
   "source": [
    "# Convert cf_id to an integer if necesary\n",
    "backers_df.head()"
   ]
  },
  {
   "cell_type": "code",
   "execution_count": 9,
   "metadata": {},
   "outputs": [
    {
     "data": {
      "text/html": [
       "<div>\n",
       "<style scoped>\n",
       "    .dataframe tbody tr th:only-of-type {\n",
       "        vertical-align: middle;\n",
       "    }\n",
       "\n",
       "    .dataframe tbody tr th {\n",
       "        vertical-align: top;\n",
       "    }\n",
       "\n",
       "    .dataframe thead th {\n",
       "        text-align: right;\n",
       "    }\n",
       "</style>\n",
       "<table border=\"1\" class=\"dataframe\">\n",
       "  <thead>\n",
       "    <tr style=\"text-align: right;\">\n",
       "      <th></th>\n",
       "      <th>backer_id</th>\n",
       "      <th>cf_id</th>\n",
       "      <th>name</th>\n",
       "      <th>email</th>\n",
       "      <th>first_name</th>\n",
       "      <th>last_name</th>\n",
       "    </tr>\n",
       "  </thead>\n",
       "  <tbody>\n",
       "    <tr>\n",
       "      <th>0</th>\n",
       "      <td>av166</td>\n",
       "      <td>968</td>\n",
       "      <td>Angelo Vincent</td>\n",
       "      <td>avincent@live.com</td>\n",
       "      <td>Angelo</td>\n",
       "      <td>Vincent</td>\n",
       "    </tr>\n",
       "    <tr>\n",
       "      <th>1</th>\n",
       "      <td>ha127</td>\n",
       "      <td>563</td>\n",
       "      <td>Hubert Arnold</td>\n",
       "      <td>harnold@yandex.com</td>\n",
       "      <td>Hubert</td>\n",
       "      <td>Arnold</td>\n",
       "    </tr>\n",
       "    <tr>\n",
       "      <th>2</th>\n",
       "      <td>lg794</td>\n",
       "      <td>65</td>\n",
       "      <td>Loris Goulet</td>\n",
       "      <td>lgoulet@yandex.com</td>\n",
       "      <td>Loris</td>\n",
       "      <td>Goulet</td>\n",
       "    </tr>\n",
       "    <tr>\n",
       "      <th>3</th>\n",
       "      <td>tb566</td>\n",
       "      <td>563</td>\n",
       "      <td>Teodora Brunelli</td>\n",
       "      <td>tbrunelli@outlook.com</td>\n",
       "      <td>Teodora</td>\n",
       "      <td>Brunelli</td>\n",
       "    </tr>\n",
       "    <tr>\n",
       "      <th>4</th>\n",
       "      <td>lh506</td>\n",
       "      <td>563</td>\n",
       "      <td>Lexie Hunt</td>\n",
       "      <td>lhunt@live.com</td>\n",
       "      <td>Lexie</td>\n",
       "      <td>Hunt</td>\n",
       "    </tr>\n",
       "  </tbody>\n",
       "</table>\n",
       "</div>"
      ],
      "text/plain": [
       "  backer_id  cf_id              name                  email first_name  \\\n",
       "0     av166    968    Angelo Vincent      avincent@live.com     Angelo   \n",
       "1     ha127    563     Hubert Arnold     harnold@yandex.com     Hubert   \n",
       "2     lg794     65      Loris Goulet     lgoulet@yandex.com      Loris   \n",
       "3     tb566    563  Teodora Brunelli  tbrunelli@outlook.com    Teodora   \n",
       "4     lh506    563        Lexie Hunt         lhunt@live.com      Lexie   \n",
       "\n",
       "  last_name  \n",
       "0   Vincent  \n",
       "1    Arnold  \n",
       "2    Goulet  \n",
       "3  Brunelli  \n",
       "4      Hunt  "
      ]
     },
     "execution_count": 9,
     "metadata": {},
     "output_type": "execute_result"
    }
   ],
   "source": [
    "# Split the \"name\" column into \"first_name\" and \"last_name\" columns.\n",
    "backers_df[['first_name', 'last_name']] = backers_df['name'].str.split(' ', n=1, expand=True)\n",
    "backers_df.head()"
   ]
  },
  {
   "cell_type": "code",
   "execution_count": 15,
   "metadata": {},
   "outputs": [
    {
     "data": {
      "text/html": [
       "<div>\n",
       "<style scoped>\n",
       "    .dataframe tbody tr th:only-of-type {\n",
       "        vertical-align: middle;\n",
       "    }\n",
       "\n",
       "    .dataframe tbody tr th {\n",
       "        vertical-align: top;\n",
       "    }\n",
       "\n",
       "    .dataframe thead th {\n",
       "        text-align: right;\n",
       "    }\n",
       "</style>\n",
       "<table border=\"1\" class=\"dataframe\">\n",
       "  <thead>\n",
       "    <tr style=\"text-align: right;\">\n",
       "      <th></th>\n",
       "      <th>cf_id</th>\n",
       "      <th>first_name</th>\n",
       "      <th>last_name</th>\n",
       "      <th>email</th>\n",
       "    </tr>\n",
       "    <tr>\n",
       "      <th>backer_id</th>\n",
       "      <th></th>\n",
       "      <th></th>\n",
       "      <th></th>\n",
       "      <th></th>\n",
       "    </tr>\n",
       "  </thead>\n",
       "  <tbody>\n",
       "    <tr>\n",
       "      <th>av166</th>\n",
       "      <td>968</td>\n",
       "      <td>Angelo</td>\n",
       "      <td>Vincent</td>\n",
       "      <td>avincent@live.com</td>\n",
       "    </tr>\n",
       "    <tr>\n",
       "      <th>ha127</th>\n",
       "      <td>563</td>\n",
       "      <td>Hubert</td>\n",
       "      <td>Arnold</td>\n",
       "      <td>harnold@yandex.com</td>\n",
       "    </tr>\n",
       "    <tr>\n",
       "      <th>lg794</th>\n",
       "      <td>65</td>\n",
       "      <td>Loris</td>\n",
       "      <td>Goulet</td>\n",
       "      <td>lgoulet@yandex.com</td>\n",
       "    </tr>\n",
       "    <tr>\n",
       "      <th>tb566</th>\n",
       "      <td>563</td>\n",
       "      <td>Teodora</td>\n",
       "      <td>Brunelli</td>\n",
       "      <td>tbrunelli@outlook.com</td>\n",
       "    </tr>\n",
       "    <tr>\n",
       "      <th>lh506</th>\n",
       "      <td>563</td>\n",
       "      <td>Lexie</td>\n",
       "      <td>Hunt</td>\n",
       "      <td>lhunt@live.com</td>\n",
       "    </tr>\n",
       "  </tbody>\n",
       "</table>\n",
       "</div>"
      ],
      "text/plain": [
       "           cf_id first_name last_name                  email\n",
       "backer_id                                                   \n",
       "av166        968     Angelo   Vincent      avincent@live.com\n",
       "ha127        563     Hubert    Arnold     harnold@yandex.com\n",
       "lg794         65      Loris    Goulet     lgoulet@yandex.com\n",
       "tb566        563    Teodora  Brunelli  tbrunelli@outlook.com\n",
       "lh506        563      Lexie      Hunt         lhunt@live.com"
      ]
     },
     "execution_count": 15,
     "metadata": {},
     "output_type": "execute_result"
    }
   ],
   "source": [
    "#  Drop the name column\n",
    "backers_df_clean = backers_df.drop(['name'], axis=1)\n",
    "\n",
    "# Reorder the columns\n",
    "new_cols = ['backer_id', 'cf_id', 'first_name', 'last_name' ,'email']\n",
    "backers_df_clean = backers_df_clean.reindex(columns=new_cols)\n",
    "\n",
    "backers_df_clean = backers_df_clean.set_index(['backer_id'])\n",
    "backers_df_clean.head()"
   ]
  },
  {
   "cell_type": "code",
   "execution_count": 16,
   "metadata": {},
   "outputs": [],
   "source": [
    "# Export the DataFrame as a CSV file using encoding='utf8'.\n",
    "backers_df_clean.to_csv('backers.csv', encoding='utf8')"
   ]
  },
  {
   "cell_type": "code",
   "execution_count": null,
   "metadata": {},
   "outputs": [],
   "source": []
  }
 ],
 "metadata": {
  "kernelspec": {
   "display_name": "PythonData",
   "language": "python",
   "name": "pythondata"
  },
  "language_info": {
   "codemirror_mode": {
    "name": "ipython",
    "version": 3
   },
   "file_extension": ".py",
   "mimetype": "text/x-python",
   "name": "python",
   "nbconvert_exporter": "python",
   "pygments_lexer": "ipython3",
   "version": "3.9.12"
  }
 },
 "nbformat": 4,
 "nbformat_minor": 4
}
